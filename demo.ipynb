{
 "cells": [
  {
   "cell_type": "markdown",
   "metadata": {},
   "source": [
    "#  Demo\n",
    "Paper: Distilling the knowledge in a neural network\n",
    "I found a easy reading code from github, so I just forked it and add more annotation"
   ]
  },
  {
   "cell_type": "code",
   "execution_count": 2,
   "metadata": {},
   "outputs": [],
   "source": [
    "import subprocess"
   ]
  },
  {
   "cell_type": "code",
   "execution_count": null,
   "metadata": {},
   "outputs": [],
   "source": [
    "train_teacher_model = \"python3 main.py --model_type=teacher --checkpoint_dir=teachercpt --num_steps 50\"\n",
    "train_teacher_teach_student_model = \"# python3 main.py --model_type=student --checkpoint_dir=studentcpt --load_teacher_from_checkpoint=true --load_teacher_checkpoint_dir=teachercpt --num_steps 50\"\n",
    "\n",
    "# train model\n",
    "subprocess.run(train_teacher_model, shell=True)"
   ]
  }
 ],
 "metadata": {
  "kernelspec": {
   "display_name": "Python 3",
   "language": "python",
   "name": "python3"
  },
  "language_info": {
   "codemirror_mode": {
    "name": "ipython",
    "version": 3
   },
   "file_extension": ".py",
   "mimetype": "text/x-python",
   "name": "python",
   "nbconvert_exporter": "python",
   "pygments_lexer": "ipython3",
   "version": "3.5.2"
  }
 },
 "nbformat": 4,
 "nbformat_minor": 2
}
